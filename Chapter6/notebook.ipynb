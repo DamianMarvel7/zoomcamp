{
 "cells": [
  {
   "cell_type": "code",
   "execution_count": 42,
   "id": "1f579f68",
   "metadata": {},
   "outputs": [],
   "source": [
    "import pandas as pd\n",
    "import numpy as np\n",
    "import seaborn as sns\n",
    "import matplotlib.pyplot as plt"
   ]
  },
  {
   "cell_type": "code",
   "execution_count": 2,
   "id": "eb7ceb8f",
   "metadata": {},
   "outputs": [],
   "source": [
    "df = pd.read_csv('housing.csv')"
   ]
  },
  {
   "cell_type": "code",
   "execution_count": 3,
   "id": "0bf9c028",
   "metadata": {},
   "outputs": [
    {
     "data": {
      "text/html": [
       "<div>\n",
       "<style scoped>\n",
       "    .dataframe tbody tr th:only-of-type {\n",
       "        vertical-align: middle;\n",
       "    }\n",
       "\n",
       "    .dataframe tbody tr th {\n",
       "        vertical-align: top;\n",
       "    }\n",
       "\n",
       "    .dataframe thead th {\n",
       "        text-align: right;\n",
       "    }\n",
       "</style>\n",
       "<table border=\"1\" class=\"dataframe\">\n",
       "  <thead>\n",
       "    <tr style=\"text-align: right;\">\n",
       "      <th></th>\n",
       "      <th>longitude</th>\n",
       "      <th>latitude</th>\n",
       "      <th>housing_median_age</th>\n",
       "      <th>total_rooms</th>\n",
       "      <th>total_bedrooms</th>\n",
       "      <th>population</th>\n",
       "      <th>households</th>\n",
       "      <th>median_income</th>\n",
       "      <th>median_house_value</th>\n",
       "      <th>ocean_proximity</th>\n",
       "    </tr>\n",
       "  </thead>\n",
       "  <tbody>\n",
       "    <tr>\n",
       "      <th>0</th>\n",
       "      <td>-122.23</td>\n",
       "      <td>37.88</td>\n",
       "      <td>41.0</td>\n",
       "      <td>880.0</td>\n",
       "      <td>129.0</td>\n",
       "      <td>322.0</td>\n",
       "      <td>126.0</td>\n",
       "      <td>8.3252</td>\n",
       "      <td>452600.0</td>\n",
       "      <td>NEAR BAY</td>\n",
       "    </tr>\n",
       "    <tr>\n",
       "      <th>1</th>\n",
       "      <td>-122.22</td>\n",
       "      <td>37.86</td>\n",
       "      <td>21.0</td>\n",
       "      <td>7099.0</td>\n",
       "      <td>1106.0</td>\n",
       "      <td>2401.0</td>\n",
       "      <td>1138.0</td>\n",
       "      <td>8.3014</td>\n",
       "      <td>358500.0</td>\n",
       "      <td>NEAR BAY</td>\n",
       "    </tr>\n",
       "    <tr>\n",
       "      <th>2</th>\n",
       "      <td>-122.24</td>\n",
       "      <td>37.85</td>\n",
       "      <td>52.0</td>\n",
       "      <td>1467.0</td>\n",
       "      <td>190.0</td>\n",
       "      <td>496.0</td>\n",
       "      <td>177.0</td>\n",
       "      <td>7.2574</td>\n",
       "      <td>352100.0</td>\n",
       "      <td>NEAR BAY</td>\n",
       "    </tr>\n",
       "    <tr>\n",
       "      <th>3</th>\n",
       "      <td>-122.25</td>\n",
       "      <td>37.85</td>\n",
       "      <td>52.0</td>\n",
       "      <td>1274.0</td>\n",
       "      <td>235.0</td>\n",
       "      <td>558.0</td>\n",
       "      <td>219.0</td>\n",
       "      <td>5.6431</td>\n",
       "      <td>341300.0</td>\n",
       "      <td>NEAR BAY</td>\n",
       "    </tr>\n",
       "    <tr>\n",
       "      <th>4</th>\n",
       "      <td>-122.25</td>\n",
       "      <td>37.85</td>\n",
       "      <td>52.0</td>\n",
       "      <td>1627.0</td>\n",
       "      <td>280.0</td>\n",
       "      <td>565.0</td>\n",
       "      <td>259.0</td>\n",
       "      <td>3.8462</td>\n",
       "      <td>342200.0</td>\n",
       "      <td>NEAR BAY</td>\n",
       "    </tr>\n",
       "  </tbody>\n",
       "</table>\n",
       "</div>"
      ],
      "text/plain": [
       "   longitude  latitude  housing_median_age  total_rooms  total_bedrooms  \\\n",
       "0    -122.23     37.88                41.0        880.0           129.0   \n",
       "1    -122.22     37.86                21.0       7099.0          1106.0   \n",
       "2    -122.24     37.85                52.0       1467.0           190.0   \n",
       "3    -122.25     37.85                52.0       1274.0           235.0   \n",
       "4    -122.25     37.85                52.0       1627.0           280.0   \n",
       "\n",
       "   population  households  median_income  median_house_value ocean_proximity  \n",
       "0       322.0       126.0         8.3252            452600.0        NEAR BAY  \n",
       "1      2401.0      1138.0         8.3014            358500.0        NEAR BAY  \n",
       "2       496.0       177.0         7.2574            352100.0        NEAR BAY  \n",
       "3       558.0       219.0         5.6431            341300.0        NEAR BAY  \n",
       "4       565.0       259.0         3.8462            342200.0        NEAR BAY  "
      ]
     },
     "execution_count": 3,
     "metadata": {},
     "output_type": "execute_result"
    }
   ],
   "source": [
    "df.head()"
   ]
  },
  {
   "cell_type": "code",
   "execution_count": 4,
   "id": "fc6dc53f",
   "metadata": {},
   "outputs": [],
   "source": [
    "columns=['latitude',\n",
    "\n",
    "'longitude',\n",
    "\n",
    "'housing_median_age',\n",
    "\n",
    "'total_rooms',\n",
    "\n",
    "'total_bedrooms',\n",
    "\n",
    "'population',\n",
    "\n",
    "'households',\n",
    "\n",
    "'median_income',\n",
    "\n",
    "'median_house_value',\n",
    "\n",
    "'ocean_proximity']"
   ]
  },
  {
   "cell_type": "code",
   "execution_count": 5,
   "id": "20cfd6e9",
   "metadata": {},
   "outputs": [],
   "source": [
    "df = df[columns].fillna(0)"
   ]
  },
  {
   "cell_type": "code",
   "execution_count": 6,
   "id": "ad8ac0bf",
   "metadata": {},
   "outputs": [
    {
     "data": {
      "text/plain": [
       "latitude              0\n",
       "longitude             0\n",
       "housing_median_age    0\n",
       "total_rooms           0\n",
       "total_bedrooms        0\n",
       "population            0\n",
       "households            0\n",
       "median_income         0\n",
       "median_house_value    0\n",
       "ocean_proximity       0\n",
       "dtype: int64"
      ]
     },
     "execution_count": 6,
     "metadata": {},
     "output_type": "execute_result"
    }
   ],
   "source": [
    "df.isnull().sum()"
   ]
  },
  {
   "cell_type": "code",
   "execution_count": 7,
   "id": "2379ea09",
   "metadata": {},
   "outputs": [],
   "source": [
    "logvalues = np.log1p(df.median_house_value).values"
   ]
  },
  {
   "cell_type": "code",
   "execution_count": 8,
   "id": "b1aa9692",
   "metadata": {},
   "outputs": [],
   "source": [
    "from sklearn.model_selection import train_test_split"
   ]
  },
  {
   "cell_type": "code",
   "execution_count": 9,
   "id": "ef9eb59e",
   "metadata": {},
   "outputs": [],
   "source": [
    "df_full_train,df_test = train_test_split(df,test_size=0.2,random_state=1)\n",
    "df_train,df_val = train_test_split(df_full_train,test_size=0.25,random_state=1)\n",
    "\n",
    "y_train = np.log1p(df_train.median_house_value.values)\n",
    "y_val = np.log1p(df_val.median_house_value.values)\n",
    "y_test = np.log1p(df_test.median_house_value.values)\n",
    "\n",
    "df_train.reset_index(inplace=True)\n",
    "df_val.reset_index(inplace=True)\n",
    "df_test.reset_index(inplace=True)\n",
    "\n",
    "del df_train['median_house_value']\n",
    "del df_val['median_house_value']\n",
    "del df_test['median_house_value']"
   ]
  },
  {
   "cell_type": "code",
   "execution_count": null,
   "id": "f0dbd0d7",
   "metadata": {},
   "outputs": [],
   "source": []
  },
  {
   "cell_type": "markdown",
   "id": "5b44dd3e",
   "metadata": {},
   "source": [
    "# Question 1"
   ]
  },
  {
   "cell_type": "code",
   "execution_count": 10,
   "id": "02f27ddb",
   "metadata": {},
   "outputs": [],
   "source": [
    "from sklearn.feature_extraction import DictVectorizer"
   ]
  },
  {
   "cell_type": "code",
   "execution_count": 16,
   "id": "312dbaf0",
   "metadata": {},
   "outputs": [],
   "source": [
    "train_dicts=df_train.to_dict(orient='records')\n",
    "val_dicts  = df_val.to_dict(orient='records')"
   ]
  },
  {
   "cell_type": "code",
   "execution_count": 13,
   "id": "b8e83ed5",
   "metadata": {},
   "outputs": [],
   "source": [
    "dv = DictVectorizer(sparse=False)\n",
    "\n",
    "X_train = dv.fit_transform(train_dicts)\n",
    "X_val   = dv.transform(val_dicts)"
   ]
  },
  {
   "cell_type": "code",
   "execution_count": 14,
   "id": "a34e0eb0",
   "metadata": {},
   "outputs": [],
   "source": [
    "from sklearn.tree import DecisionTreeRegressor\n",
    "from sklearn.tree import export_text"
   ]
  },
  {
   "cell_type": "code",
   "execution_count": 18,
   "id": "d84530ee",
   "metadata": {
    "scrolled": true
   },
   "outputs": [
    {
     "data": {
      "text/plain": [
       "DecisionTreeRegressor(max_depth=1)"
      ]
     },
     "execution_count": 18,
     "metadata": {},
     "output_type": "execute_result"
    }
   ],
   "source": [
    "dt = DecisionTreeRegressor(max_depth=1)\n",
    "dt.fit(X_train,y_train)"
   ]
  },
  {
   "cell_type": "code",
   "execution_count": 21,
   "id": "2174e934",
   "metadata": {},
   "outputs": [
    {
     "name": "stdout",
     "output_type": "stream",
     "text": [
      "|--- ocean_proximity=INLAND <= 0.50\n",
      "|   |--- value: [12.31]\n",
      "|--- ocean_proximity=INLAND >  0.50\n",
      "|   |--- value: [11.61]\n",
      "\n"
     ]
    }
   ],
   "source": [
    "print(export_text(dt,feature_names=dv.get_feature_names()))"
   ]
  },
  {
   "cell_type": "markdown",
   "id": "c4ab12b9",
   "metadata": {},
   "source": [
    "Answer : ocean_proximity=INLAND"
   ]
  },
  {
   "cell_type": "markdown",
   "id": "901d43f0",
   "metadata": {},
   "source": [
    "# Question 2"
   ]
  },
  {
   "cell_type": "code",
   "execution_count": 22,
   "id": "4bf8282c",
   "metadata": {},
   "outputs": [],
   "source": [
    "from sklearn.ensemble import RandomForestRegressor"
   ]
  },
  {
   "cell_type": "code",
   "execution_count": 23,
   "id": "f76f2218",
   "metadata": {},
   "outputs": [],
   "source": [
    "rf = RandomForestRegressor(n_estimators=10,random_state=1,n_jobs=-1)"
   ]
  },
  {
   "cell_type": "code",
   "execution_count": 24,
   "id": "1debc733",
   "metadata": {},
   "outputs": [
    {
     "data": {
      "text/plain": [
       "RandomForestRegressor(n_estimators=10, n_jobs=-1, random_state=1)"
      ]
     },
     "execution_count": 24,
     "metadata": {},
     "output_type": "execute_result"
    }
   ],
   "source": [
    "rf.fit(X_train,y_train)"
   ]
  },
  {
   "cell_type": "code",
   "execution_count": 120,
   "id": "28cdb1c6",
   "metadata": {},
   "outputs": [],
   "source": [
    "y_pred = rf.predict(X_val)"
   ]
  },
  {
   "cell_type": "code",
   "execution_count": 27,
   "id": "60edf77c",
   "metadata": {},
   "outputs": [],
   "source": [
    "def rmse(predictions, targets):\n",
    "    return np.sqrt(((predictions - targets) ** 2).mean())"
   ]
  },
  {
   "cell_type": "code",
   "execution_count": 28,
   "id": "d380f9aa",
   "metadata": {},
   "outputs": [
    {
     "data": {
      "text/plain": [
       "0.23675512851863834"
      ]
     },
     "execution_count": 28,
     "metadata": {},
     "output_type": "execute_result"
    }
   ],
   "source": [
    "rmse(y_pred,y_val)"
   ]
  },
  {
   "cell_type": "markdown",
   "id": "eacf38f8",
   "metadata": {},
   "source": [
    "Answer : 0.25"
   ]
  },
  {
   "cell_type": "markdown",
   "id": "45635bc3",
   "metadata": {},
   "source": [
    "# Question 3"
   ]
  },
  {
   "cell_type": "code",
   "execution_count": 38,
   "id": "eaf9b385",
   "metadata": {},
   "outputs": [],
   "source": [
    "arr_n = np.linspace(10,200,20)\n",
    "arr_n = [int(i) for i in arr_n]"
   ]
  },
  {
   "cell_type": "code",
   "execution_count": 63,
   "id": "95994fe0",
   "metadata": {},
   "outputs": [
    {
     "name": "stdout",
     "output_type": "stream",
     "text": [
      "10 0.23675512851863834\n",
      "20 0.22900471621860757\n",
      "30 0.22668039533141396\n",
      "40 0.22632080445624655\n",
      "50 0.2260229657364224\n",
      "60 0.2253789154296871\n",
      "70 0.22451698904807968\n",
      "80 0.22451495939414043\n",
      "90 0.22419907556697843\n",
      "100 0.22415059392573994\n",
      "110 0.22384288220398127\n",
      "120 0.22379753664352234\n",
      "130 0.22383628509645018\n",
      "140 0.22384476036721498\n",
      "150 0.22370024346275458\n",
      "160 0.2237879115052718\n",
      "170 0.22375217351417973\n",
      "180 0.22400264397227743\n",
      "190 0.22400160624617135\n",
      "200 0.22398966970562836\n"
     ]
    }
   ],
   "source": [
    "result = []\n",
    "for n in arr_n:\n",
    "    rf = RandomForestRegressor(n_estimators=n,random_state=1,n_jobs=-1)\n",
    "    rf.fit(X_train,y_train)\n",
    "    y_pred = rf.predict(X_val)\n",
    "    result.append(rmse(y_pred,y_val))\n",
    "    print(n,rmse(y_pred,y_val))"
   ]
  },
  {
   "cell_type": "code",
   "execution_count": 64,
   "id": "2eff0f71",
   "metadata": {},
   "outputs": [
    {
     "data": {
      "text/plain": [
       "[<matplotlib.lines.Line2D at 0x1dd14adcd30>]"
      ]
     },
     "execution_count": 64,
     "metadata": {},
     "output_type": "execute_result"
    },
    {
     "data": {
      "image/png": "[encoded data removed]",
      "text/plain": [
       "<Figure size 432x288 with 1 Axes>"
      ]
     },
     "metadata": {
      "needs_background": "light"
     },
     "output_type": "display_data"
    }
   ],
   "source": [
    "plt.plot(arr_n,result)"
   ]
  },
  {
   "cell_type": "markdown",
   "id": "8fac5a9c",
   "metadata": {},
   "source": [
    "Answer : 150"
   ]
  },
  {
   "cell_type": "markdown",
   "id": "69df17bb",
   "metadata": {},
   "source": [
    "# Question 4"
   ]
  },
  {
   "cell_type": "code",
   "execution_count": 66,
   "id": "ee96b68e",
   "metadata": {},
   "outputs": [
    {
     "name": "stdout",
     "output_type": "stream",
     "text": [
      "10 10 0.2531360919159967\n",
      "20 10 0.250160138921956\n",
      "30 10 0.2500991863238398\n",
      "40 10 0.24999879507109937\n",
      "50 10 0.25014699085941006\n",
      "60 10 0.2491255811556211\n",
      "70 10 0.2485817392004264\n",
      "80 10 0.2484906809388729\n",
      "90 10 0.24801007982092266\n",
      "100 10 0.247915881168401\n",
      "110 10 0.24767009644039117\n",
      "120 10 0.24744911739333153\n",
      "130 10 0.2473631483322449\n",
      "140 10 0.24738419210378593\n",
      "150 10 0.24733202805267612\n",
      "160 10 0.24744885226894833\n",
      "170 10 0.24731172549073063\n",
      "180 10 0.24736097810522253\n",
      "190 10 0.2473478442846524\n",
      "200 10 0.24743575032398646\n",
      "10 15 0.2364617540682653\n",
      "20 15 0.22978155861185937\n",
      "30 15 0.22870316839478955\n",
      "40 15 0.22819951760237298\n",
      "50 15 0.2277382853129101\n",
      "60 15 0.2270295738881707\n",
      "70 15 0.22635425845274246\n",
      "80 15 0.2263982270462288\n",
      "90 15 0.22606274445909566\n",
      "100 15 0.22587780444616562\n",
      "110 15 0.22561596014075366\n",
      "120 15 0.2255867593890407\n",
      "130 15 0.225841906864551\n",
      "140 15 0.22584540153112556\n",
      "150 15 0.2257331873135025\n",
      "160 15 0.22586571120738708\n",
      "170 15 0.2257750850072551\n",
      "180 15 0.22604532378664546\n",
      "190 15 0.22601989641159798\n",
      "200 15 0.22602137448282345\n",
      "10 20 0.2371165695626685\n",
      "20 20 0.229255575620939\n",
      "30 20 0.22700260439598124\n",
      "40 20 0.22638875592678095\n",
      "50 20 0.22578346794534493\n",
      "60 20 0.22511712401735598\n",
      "70 20 0.2242875053864901\n",
      "80 20 0.22442375190849914\n",
      "90 20 0.22415033151366406\n",
      "100 20 0.2241188832059119\n",
      "110 20 0.2238081069736036\n",
      "120 20 0.2236987060341315\n",
      "130 20 0.22378300281750868\n",
      "140 20 0.22385175955411035\n",
      "150 20 0.22374387672207413\n",
      "160 20 0.22383376605612829\n",
      "170 20 0.22372905125892717\n",
      "180 20 0.22402337580050047\n",
      "190 20 0.22395208663641314\n",
      "200 20 0.22394704358155243\n",
      "10 25 0.23721455700057\n",
      "20 25 0.22854732829748226\n",
      "30 25 0.22678085447129787\n",
      "40 25 0.22605895667388912\n",
      "50 25 0.22548732348480155\n",
      "60 25 0.22462284981405262\n",
      "70 25 0.22388681395188653\n",
      "80 25 0.22404534803732262\n",
      "90 25 0.2237309940610716\n",
      "100 25 0.22366102902757437\n",
      "110 25 0.22337170089536776\n",
      "120 25 0.22340590015701664\n",
      "130 25 0.2235203532419301\n",
      "140 25 0.2236062069812045\n",
      "150 25 0.22347571249462508\n",
      "160 25 0.22352758902353279\n",
      "170 25 0.22350992936023062\n",
      "180 25 0.22380870239839373\n",
      "190 25 0.22382233001888696\n",
      "200 25 0.22389628190618324\n"
     ]
    }
   ],
   "source": [
    "result = []\n",
    "for d in  [10, 15, 20, 25]:\n",
    "    for n in arr_n:\n",
    "        rf = RandomForestRegressor(n_estimators=n,random_state=1,n_jobs=-1,max_depth=d)\n",
    "        rf.fit(X_train,y_train)\n",
    "        y_pred = rf.predict(X_val)\n",
    "        result.append((n,d,rmse(y_pred,y_val)))\n",
    "        print(n,d,rmse(y_pred,y_val))"
   ]
  },
  {
   "cell_type": "code",
   "execution_count": 67,
   "id": "a688a418",
   "metadata": {},
   "outputs": [],
   "source": [
    "df_result = pd.DataFrame(result, columns=['n_estimators','max_depth', 'rmse'])"
   ]
  },
  {
   "cell_type": "code",
   "execution_count": 70,
   "id": "135990a4",
   "metadata": {},
   "outputs": [
    {
     "data": {
      "text/html": [
       "<div>\n",
       "<style scoped>\n",
       "    .dataframe tbody tr th:only-of-type {\n",
       "        vertical-align: middle;\n",
       "    }\n",
       "\n",
       "    .dataframe tbody tr th {\n",
       "        vertical-align: top;\n",
       "    }\n",
       "\n",
       "    .dataframe thead th {\n",
       "        text-align: right;\n",
       "    }\n",
       "</style>\n",
       "<table border=\"1\" class=\"dataframe\">\n",
       "  <thead>\n",
       "    <tr style=\"text-align: right;\">\n",
       "      <th></th>\n",
       "      <th>n_estimators</th>\n",
       "      <th>max_depth</th>\n",
       "      <th>rmse</th>\n",
       "    </tr>\n",
       "  </thead>\n",
       "  <tbody>\n",
       "    <tr>\n",
       "      <th>70</th>\n",
       "      <td>110</td>\n",
       "      <td>25</td>\n",
       "      <td>0.223372</td>\n",
       "    </tr>\n",
       "    <tr>\n",
       "      <th>71</th>\n",
       "      <td>120</td>\n",
       "      <td>25</td>\n",
       "      <td>0.223406</td>\n",
       "    </tr>\n",
       "    <tr>\n",
       "      <th>74</th>\n",
       "      <td>150</td>\n",
       "      <td>25</td>\n",
       "      <td>0.223476</td>\n",
       "    </tr>\n",
       "    <tr>\n",
       "      <th>76</th>\n",
       "      <td>170</td>\n",
       "      <td>25</td>\n",
       "      <td>0.223510</td>\n",
       "    </tr>\n",
       "    <tr>\n",
       "      <th>72</th>\n",
       "      <td>130</td>\n",
       "      <td>25</td>\n",
       "      <td>0.223520</td>\n",
       "    </tr>\n",
       "    <tr>\n",
       "      <th>...</th>\n",
       "      <td>...</td>\n",
       "      <td>...</td>\n",
       "      <td>...</td>\n",
       "    </tr>\n",
       "    <tr>\n",
       "      <th>3</th>\n",
       "      <td>40</td>\n",
       "      <td>10</td>\n",
       "      <td>0.249999</td>\n",
       "    </tr>\n",
       "    <tr>\n",
       "      <th>2</th>\n",
       "      <td>30</td>\n",
       "      <td>10</td>\n",
       "      <td>0.250099</td>\n",
       "    </tr>\n",
       "    <tr>\n",
       "      <th>4</th>\n",
       "      <td>50</td>\n",
       "      <td>10</td>\n",
       "      <td>0.250147</td>\n",
       "    </tr>\n",
       "    <tr>\n",
       "      <th>1</th>\n",
       "      <td>20</td>\n",
       "      <td>10</td>\n",
       "      <td>0.250160</td>\n",
       "    </tr>\n",
       "    <tr>\n",
       "      <th>0</th>\n",
       "      <td>10</td>\n",
       "      <td>10</td>\n",
       "      <td>0.253136</td>\n",
       "    </tr>\n",
       "  </tbody>\n",
       "</table>\n",
       "<p>80 rows × 3 columns</p>\n",
       "</div>"
      ],
      "text/plain": [
       "    n_estimators  max_depth      rmse\n",
       "70           110         25  0.223372\n",
       "71           120         25  0.223406\n",
       "74           150         25  0.223476\n",
       "76           170         25  0.223510\n",
       "72           130         25  0.223520\n",
       "..           ...        ...       ...\n",
       "3             40         10  0.249999\n",
       "2             30         10  0.250099\n",
       "4             50         10  0.250147\n",
       "1             20         10  0.250160\n",
       "0             10         10  0.253136\n",
       "\n",
       "[80 rows x 3 columns]"
      ]
     },
     "execution_count": 70,
     "metadata": {},
     "output_type": "execute_result"
    }
   ],
   "source": [
    "df_result.sort_values('rmse')"
   ]
  },
  {
   "cell_type": "code",
   "execution_count": 74,
   "id": "c783ff51",
   "metadata": {},
   "outputs": [
    {
     "data": {
      "text/plain": [
       "<matplotlib.legend.Legend at 0x1dd1a71f8b0>"
      ]
     },
     "execution_count": 74,
     "metadata": {},
     "output_type": "execute_result"
    },
    {
     "data": {
      "image/png": "[encoded data removed]",
      "text/plain": [
       "<Figure size 432x288 with 1 Axes>"
      ]
     },
     "metadata": {
      "needs_background": "light"
     },
     "output_type": "display_data"
    }
   ],
   "source": [
    "for d in  [10, 15, 20, 25]:\n",
    "    df_subset = df_result[df_result.max_depth == d]\n",
    "    plt.plot(df_subset.n_estimators, df_subset.rmse, label=d)\n",
    "plt.legend()"
   ]
  },
  {
   "cell_type": "markdown",
   "id": "67680c7f",
   "metadata": {},
   "source": [
    "Answer : 25"
   ]
  },
  {
   "cell_type": "markdown",
   "id": "7ca5fff4",
   "metadata": {},
   "source": [
    "# Question 5"
   ]
  },
  {
   "cell_type": "code",
   "execution_count": 76,
   "id": "19e183b9",
   "metadata": {},
   "outputs": [],
   "source": [
    "rf = RandomForestRegressor(n_estimators=10,\n",
    "max_depth=20,\n",
    "random_state=1,\n",
    "n_jobs=-1)"
   ]
  },
  {
   "cell_type": "code",
   "execution_count": 77,
   "id": "0169b0c7",
   "metadata": {},
   "outputs": [
    {
     "data": {
      "text/plain": [
       "RandomForestRegressor(max_depth=20, n_estimators=10, n_jobs=-1, random_state=1)"
      ]
     },
     "execution_count": 77,
     "metadata": {},
     "output_type": "execute_result"
    }
   ],
   "source": [
    "rf.fit(X_train,y_train)"
   ]
  },
  {
   "cell_type": "code",
   "execution_count": 78,
   "id": "a23ffd31",
   "metadata": {},
   "outputs": [
    {
     "data": {
      "text/plain": [
       "array([1.43375485e-02, 2.80850063e-02, 8.01677808e-02, 7.10417118e-02,\n",
       "       7.08350889e-02, 3.59255380e-01, 2.59400418e-03, 3.11197069e-01,\n",
       "       2.84708607e-04, 2.43581498e-04, 2.99525972e-03, 2.38573400e-02,\n",
       "       1.53284139e-02, 1.97771062e-02])"
      ]
     },
     "execution_count": 78,
     "metadata": {},
     "output_type": "execute_result"
    }
   ],
   "source": [
    "rf.feature_importances_"
   ]
  },
  {
   "cell_type": "code",
   "execution_count": 79,
   "id": "230880f7",
   "metadata": {},
   "outputs": [],
   "source": [
    "rf_gain = pd.DataFrame()"
   ]
  },
  {
   "cell_type": "code",
   "execution_count": 80,
   "id": "9435ae4e",
   "metadata": {},
   "outputs": [
    {
     "name": "stderr",
     "output_type": "stream",
     "text": [
      "C:\\Users\\Damian Marvel\\anaconda3\\lib\\site-packages\\sklearn\\utils\\deprecation.py:87: FutureWarning: Function get_feature_names is deprecated; get_feature_names is deprecated in 1.0 and will be removed in 1.2. Please use get_feature_names_out instead.\n",
      "  warnings.warn(msg, category=FutureWarning)\n"
     ]
    }
   ],
   "source": [
    "rf_gain['feature'] = dv.get_feature_names()\n",
    "rf_gain['feature_importances'] = rf.feature_importances_"
   ]
  },
  {
   "cell_type": "code",
   "execution_count": 84,
   "id": "2d870cf4",
   "metadata": {},
   "outputs": [
    {
     "data": {
      "text/html": [
       "<div>\n",
       "<style scoped>\n",
       "    .dataframe tbody tr th:only-of-type {\n",
       "        vertical-align: middle;\n",
       "    }\n",
       "\n",
       "    .dataframe tbody tr th {\n",
       "        vertical-align: top;\n",
       "    }\n",
       "\n",
       "    .dataframe thead th {\n",
       "        text-align: right;\n",
       "    }\n",
       "</style>\n",
       "<table border=\"1\" class=\"dataframe\">\n",
       "  <thead>\n",
       "    <tr style=\"text-align: right;\">\n",
       "      <th></th>\n",
       "      <th>feature</th>\n",
       "      <th>feature_importances</th>\n",
       "    </tr>\n",
       "  </thead>\n",
       "  <tbody>\n",
       "    <tr>\n",
       "      <th>5</th>\n",
       "      <td>median_income</td>\n",
       "      <td>0.359255</td>\n",
       "    </tr>\n",
       "    <tr>\n",
       "      <th>7</th>\n",
       "      <td>ocean_proximity=INLAND</td>\n",
       "      <td>0.311197</td>\n",
       "    </tr>\n",
       "    <tr>\n",
       "      <th>2</th>\n",
       "      <td>index</td>\n",
       "      <td>0.080168</td>\n",
       "    </tr>\n",
       "    <tr>\n",
       "      <th>3</th>\n",
       "      <td>latitude</td>\n",
       "      <td>0.071042</td>\n",
       "    </tr>\n",
       "    <tr>\n",
       "      <th>4</th>\n",
       "      <td>longitude</td>\n",
       "      <td>0.070835</td>\n",
       "    </tr>\n",
       "    <tr>\n",
       "      <th>1</th>\n",
       "      <td>housing_median_age</td>\n",
       "      <td>0.028085</td>\n",
       "    </tr>\n",
       "    <tr>\n",
       "      <th>11</th>\n",
       "      <td>population</td>\n",
       "      <td>0.023857</td>\n",
       "    </tr>\n",
       "    <tr>\n",
       "      <th>13</th>\n",
       "      <td>total_rooms</td>\n",
       "      <td>0.019777</td>\n",
       "    </tr>\n",
       "    <tr>\n",
       "      <th>12</th>\n",
       "      <td>total_bedrooms</td>\n",
       "      <td>0.015328</td>\n",
       "    </tr>\n",
       "    <tr>\n",
       "      <th>0</th>\n",
       "      <td>households</td>\n",
       "      <td>0.014338</td>\n",
       "    </tr>\n",
       "    <tr>\n",
       "      <th>10</th>\n",
       "      <td>ocean_proximity=NEAR OCEAN</td>\n",
       "      <td>0.002995</td>\n",
       "    </tr>\n",
       "    <tr>\n",
       "      <th>6</th>\n",
       "      <td>ocean_proximity=&lt;1H OCEAN</td>\n",
       "      <td>0.002594</td>\n",
       "    </tr>\n",
       "    <tr>\n",
       "      <th>8</th>\n",
       "      <td>ocean_proximity=ISLAND</td>\n",
       "      <td>0.000285</td>\n",
       "    </tr>\n",
       "    <tr>\n",
       "      <th>9</th>\n",
       "      <td>ocean_proximity=NEAR BAY</td>\n",
       "      <td>0.000244</td>\n",
       "    </tr>\n",
       "  </tbody>\n",
       "</table>\n",
       "</div>"
      ],
      "text/plain": [
       "                       feature  feature_importances\n",
       "5                median_income             0.359255\n",
       "7       ocean_proximity=INLAND             0.311197\n",
       "2                        index             0.080168\n",
       "3                     latitude             0.071042\n",
       "4                    longitude             0.070835\n",
       "1           housing_median_age             0.028085\n",
       "11                  population             0.023857\n",
       "13                 total_rooms             0.019777\n",
       "12              total_bedrooms             0.015328\n",
       "0                   households             0.014338\n",
       "10  ocean_proximity=NEAR OCEAN             0.002995\n",
       "6    ocean_proximity=<1H OCEAN             0.002594\n",
       "8       ocean_proximity=ISLAND             0.000285\n",
       "9     ocean_proximity=NEAR BAY             0.000244"
      ]
     },
     "execution_count": 84,
     "metadata": {},
     "output_type": "execute_result"
    }
   ],
   "source": [
    "rf_gain.sort_values('feature_importances',ascending=False)"
   ]
  },
  {
   "cell_type": "markdown",
   "id": "75a3dc90",
   "metadata": {},
   "source": [
    "Answer : median_income"
   ]
  },
  {
   "cell_type": "markdown",
   "id": "1c4d0abe",
   "metadata": {},
   "source": [
    "# Question 6"
   ]
  },
  {
   "cell_type": "code",
   "execution_count": 88,
   "id": "0fc99c65",
   "metadata": {},
   "outputs": [],
   "source": [
    "import xgboost as xgb"
   ]
  },
  {
   "cell_type": "code",
   "execution_count": 92,
   "id": "250d1b8d",
   "metadata": {},
   "outputs": [],
   "source": [
    "features = dv.get_feature_names()"
   ]
  },
  {
   "cell_type": "code",
   "execution_count": 99,
   "id": "96db69a0",
   "metadata": {},
   "outputs": [],
   "source": [
    "features [6] = features[6].replace('<',' ')"
   ]
  },
  {
   "cell_type": "code",
   "execution_count": 104,
   "id": "45526a9a",
   "metadata": {},
   "outputs": [],
   "source": [
    "dtrain = xgb.DMatrix(X_train,label=y_train,feature_names=features)\n",
    "dval = xgb.DMatrix(X_val,label=y_val,feature_names=features)"
   ]
  },
  {
   "cell_type": "code",
   "execution_count": 105,
   "id": "740291a8",
   "metadata": {},
   "outputs": [],
   "source": [
    "xgb_params = {\n",
    "    'eta': 0.3, \n",
    "    'max_depth': 6,\n",
    "    'min_child_weight': 1,\n",
    "    \n",
    "    'objective': 'reg:squarederror',\n",
    "    'nthread': 8,\n",
    "    \n",
    "    'seed': 1,\n",
    "    'verbosity': 1,\n",
    "}"
   ]
  },
  {
   "cell_type": "code",
   "execution_count": 107,
   "id": "087a16a1",
   "metadata": {},
   "outputs": [],
   "source": [
    "model = xgb.train(xgb_params,dtrain,num_boost_round=200)"
   ]
  },
  {
   "cell_type": "code",
   "execution_count": 121,
   "id": "36cc783d",
   "metadata": {},
   "outputs": [],
   "source": [
    "y_pred = model.predict(dval)"
   ]
  },
  {
   "cell_type": "code",
   "execution_count": 116,
   "id": "2f172080",
   "metadata": {},
   "outputs": [
    {
     "data": {
      "text/plain": [
       "0.21846151270841094"
      ]
     },
     "execution_count": 116,
     "metadata": {},
     "output_type": "execute_result"
    }
   ],
   "source": [
    "rmse(y_val,y_pred)"
   ]
  },
  {
   "cell_type": "code",
   "execution_count": 118,
   "id": "941ad808",
   "metadata": {},
   "outputs": [],
   "source": [
    "xgb_params = {\n",
    "    'eta': 0.1, \n",
    "    'max_depth': 6,\n",
    "    'min_child_weight': 1,\n",
    "    \n",
    "    'objective': 'reg:squarederror',\n",
    "    'nthread': 8,\n",
    "    \n",
    "    'seed': 1,\n",
    "    'verbosity': 1,\n",
    "}"
   ]
  },
  {
   "cell_type": "code",
   "execution_count": 119,
   "id": "dc8c1b18",
   "metadata": {},
   "outputs": [
    {
     "data": {
      "text/plain": [
       "0.21832970975692176"
      ]
     },
     "execution_count": 119,
     "metadata": {},
     "output_type": "execute_result"
    }
   ],
   "source": [
    "model = xgb.train(xgb_params,dtrain,num_boost_round=200)\n",
    "y_pred = model.predict(dval)\n",
    "rmse(y_val,y_pred)"
   ]
  },
  {
   "cell_type": "markdown",
   "id": "5506f4eb",
   "metadata": {},
   "source": [
    "Answer : Both gives same"
   ]
  },
  {
   "cell_type": "code",
   "execution_count": null,
   "id": "eccafb3b",
   "metadata": {},
   "outputs": [],
   "source": []
  }
 ],
 "metadata": {
  "kernelspec": {
   "display_name": "Python 3 (ipykernel)",
   "language": "python",
   "name": "python3"
  },
  "language_info": {
   "codemirror_mode": {
    "name": "ipython",
    "version": 3
   },
   "file_extension": ".py",
   "mimetype": "text/x-python",
   "name": "python",
   "nbconvert_exporter": "python",
   "pygments_lexer": "ipython3",
   "version": "3.9.12"
  }
 },
 "nbformat": 4,
 "nbformat_minor": 5
}
